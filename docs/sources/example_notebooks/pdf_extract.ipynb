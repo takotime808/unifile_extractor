{
 "cells": [
  {
   "cell_type": "markdown",
   "id": "3bc0d064",
   "metadata": {},
   "source": [
    "<!-- Copyright (c) 2025 takotime808 -->\n",
    "\n",
    "## Example PDF Extraction ##"
   ]
  },
  {
   "cell_type": "code",
   "execution_count": 1,
   "id": "cc304ae8",
   "metadata": {},
   "outputs": [
    {
     "name": "stdout",
     "output_type": "stream",
     "text": [
      "                      source_path                     source_name file_type unit_type unit_id                                                                                              content  char_count                                                                                             metadata status error\n",
      "0  sample-engineering-drawing.pdf  sample-engineering-drawing.pdf       pdf      page       0   .75 \\n 4.00 \\n 2.500±.002 \\n 1.00 \\n 2.00 \\n R.25 TYP \\n \\n.500 THRU \\n 1/4-20 UNC - 2B \\n0.50 ...        1253                                         {'page': 0, 'rect': [0.0, 0.0, 1224.0, 792.0], 'ocr': False}     ok  None\n",
      "1  sample-engineering-drawing.pdf  sample-engineering-drawing.pdf       pdf      file    meta                                                                                                                0  {'metadata': {'format': 'PDF 1.4', 'title': 'Example Engineering Drawing | Fast Radius', 'author...     ok  None\n"
     ]
    }
   ],
   "source": [
    "import pathlib\n",
    "import requests\n",
    "from unifile import extract_to_table\n",
    "\n",
    "# 1) Download the sample drawing\n",
    "url = \"https://www.fastradius.com/wp-content/uploads/2022/02/sample-engineering-drawing.pdf\"\n",
    "out = pathlib.Path(\"sample-engineering-drawing.pdf\")\n",
    "out.write_bytes(requests.get(url, timeout=30).content)\n",
    "\n",
    "# 2) Run the unified extractor you installed earlier\n",
    "df = extract_to_table(out)\n",
    "\n",
    "# 3) Inspect the standardized table\n",
    "print(df.head(20).to_string(max_colwidth=100))\n",
    "df.to_csv(\"sample_drawing_extracted.csv\", index=False)   # or df.to_parquet(...)\n"
   ]
  },
  {
   "cell_type": "code",
   "execution_count": null,
   "id": "9e05774b",
   "metadata": {},
   "outputs": [],
   "source": []
  }
 ],
 "metadata": {
  "kernelspec": {
   "display_name": "unifile",
   "language": "python",
   "name": "python3"
  },
  "language_info": {
   "codemirror_mode": {
    "name": "ipython",
    "version": 3
   },
   "file_extension": ".py",
   "mimetype": "text/x-python",
   "name": "python",
   "nbconvert_exporter": "python",
   "pygments_lexer": "ipython3",
   "version": "3.9.23"
  }
 },
 "nbformat": 4,
 "nbformat_minor": 5
}
